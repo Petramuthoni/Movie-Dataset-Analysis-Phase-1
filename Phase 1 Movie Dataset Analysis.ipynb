{
 "cells": [
  {
   "cell_type": "markdown",
   "id": "f8cee074-45d2-41de-baf6-ef1494711646",
   "metadata": {},
   "source": [
    "## Introduction"
   ]
  },
  {
   "cell_type": "markdown",
   "id": "3e3670f2-ea64-4f3c-8eb0-ecdcad32e836",
   "metadata": {},
   "source": [
    "## Business Understanding\n",
    "The goal of this notebook is to analyze box office movies dataset and generate findings that Microsoft would rely on to start their new movie studio"
   ]
  },
  {
   "cell_type": "code",
   "execution_count": 1,
   "id": "0dc96ec9-f86b-4ff4-9972-4f303a66bbc2",
   "metadata": {},
   "outputs": [],
   "source": [
    "#import necessary packages\n",
    "import pandas as pd\n",
    "import numpy as np\n",
    "import seaborn as sns\n",
    "import matplotlib.pyplot as plt\n",
    "%matplotlib inline"
   ]
  },
  {
   "cell_type": "code",
   "execution_count": null,
   "id": "dbc52045-9fbe-4a5d-ba95-2d421f89c667",
   "metadata": {},
   "outputs": [],
   "source": []
  }
 ],
 "metadata": {
  "kernelspec": {
   "display_name": "Python 3 (ipykernel)",
   "language": "python",
   "name": "python3"
  },
  "language_info": {
   "codemirror_mode": {
    "name": "ipython",
    "version": 3
   },
   "file_extension": ".py",
   "mimetype": "text/x-python",
   "name": "python",
   "nbconvert_exporter": "python",
   "pygments_lexer": "ipython3",
   "version": "3.11.8"
  }
 },
 "nbformat": 4,
 "nbformat_minor": 5
}
