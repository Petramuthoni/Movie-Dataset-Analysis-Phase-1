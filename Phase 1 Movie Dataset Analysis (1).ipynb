{
 "cells": [
  {
   "cell_type": "markdown",
   "id": "f8cee074-45d2-41de-baf6-ef1494711646",
   "metadata": {},
   "source": [
    "## Introduction"
   ]
  },
  {
   "cell_type": "markdown",
   "id": "3e3670f2-ea64-4f3c-8eb0-ecdcad32e836",
   "metadata": {},
   "source": [
    "## Business Understanding\n",
    "The goal of this notebook is to analyze box office movies dataset and generate findings that Microsoft would rely on to start their new movie studio"
   ]
  },
  {
   "cell_type": "code",
   "execution_count": 1,
   "id": "0dc96ec9-f86b-4ff4-9972-4f303a66bbc2",
   "metadata": {},
   "outputs": [],
   "source": [
    "#import necessary packages\n",
    "import pandas as pd\n",
    "import numpy as np\n",
    "import seaborn as sns\n",
    "import matplotlib.pyplot as plt\n",
    "%matplotlib inline"
   ]
  },
  {
   "cell_type": "code",
   "execution_count": 2,
   "id": "dbc52045-9fbe-4a5d-ba95-2d421f89c667",
   "metadata": {},
   "outputs": [
    {
     "data": {
      "text/html": [
       "<div>\n",
       "<style scoped>\n",
       "    .dataframe tbody tr th:only-of-type {\n",
       "        vertical-align: middle;\n",
       "    }\n",
       "\n",
       "    .dataframe tbody tr th {\n",
       "        vertical-align: top;\n",
       "    }\n",
       "\n",
       "    .dataframe thead th {\n",
       "        text-align: right;\n",
       "    }\n",
       "</style>\n",
       "<table border=\"1\" class=\"dataframe\">\n",
       "  <thead>\n",
       "    <tr style=\"text-align: right;\">\n",
       "      <th></th>\n",
       "      <th>id</th>\n",
       "      <th>release_date</th>\n",
       "      <th>movie</th>\n",
       "      <th>production_budget</th>\n",
       "      <th>domestic_gross</th>\n",
       "      <th>worldwide_gross</th>\n",
       "    </tr>\n",
       "  </thead>\n",
       "  <tbody>\n",
       "    <tr>\n",
       "      <th>0</th>\n",
       "      <td>1</td>\n",
       "      <td>2009-12-18</td>\n",
       "      <td>Avatar</td>\n",
       "      <td>$425,000,000</td>\n",
       "      <td>$760,507,625</td>\n",
       "      <td>$2,776,345,279</td>\n",
       "    </tr>\n",
       "    <tr>\n",
       "      <th>1</th>\n",
       "      <td>2</td>\n",
       "      <td>2011-05-20</td>\n",
       "      <td>Pirates of the Caribbean: On Stranger Tides</td>\n",
       "      <td>$410,600,000</td>\n",
       "      <td>$241,063,875</td>\n",
       "      <td>$1,045,663,875</td>\n",
       "    </tr>\n",
       "  </tbody>\n",
       "</table>\n",
       "</div>"
      ],
      "text/plain": [
       "   id release_date                                        movie  \\\n",
       "0   1   2009-12-18                                       Avatar   \n",
       "1   2   2011-05-20  Pirates of the Caribbean: On Stranger Tides   \n",
       "\n",
       "  production_budget domestic_gross worldwide_gross  \n",
       "0      $425,000,000   $760,507,625  $2,776,345,279  \n",
       "1      $410,600,000   $241,063,875  $1,045,663,875  "
      ]
     },
     "execution_count": 2,
     "metadata": {},
     "output_type": "execute_result"
    }
   ],
   "source": [
    "#loading data from the first dataset(movie budgets datasets)\n",
    "df1=pd.read_csv('tn.movie_budgets.csv',parse_dates=['release_date'])\n",
    "df1.head(2)"
   ]
  },
  {
   "cell_type": "code",
   "execution_count": 3,
   "id": "8de71953-836c-4382-9feb-085ab0697895",
   "metadata": {},
   "outputs": [
    {
     "data": {
      "text/html": [
       "<div>\n",
       "<style scoped>\n",
       "    .dataframe tbody tr th:only-of-type {\n",
       "        vertical-align: middle;\n",
       "    }\n",
       "\n",
       "    .dataframe tbody tr th {\n",
       "        vertical-align: top;\n",
       "    }\n",
       "\n",
       "    .dataframe thead th {\n",
       "        text-align: right;\n",
       "    }\n",
       "</style>\n",
       "<table border=\"1\" class=\"dataframe\">\n",
       "  <thead>\n",
       "    <tr style=\"text-align: right;\">\n",
       "      <th></th>\n",
       "      <th>Unnamed: 0</th>\n",
       "      <th>genre_ids</th>\n",
       "      <th>id</th>\n",
       "      <th>original_language</th>\n",
       "      <th>original_title</th>\n",
       "      <th>popularity</th>\n",
       "      <th>release_date</th>\n",
       "      <th>title</th>\n",
       "      <th>vote_average</th>\n",
       "      <th>vote_count</th>\n",
       "    </tr>\n",
       "  </thead>\n",
       "  <tbody>\n",
       "    <tr>\n",
       "      <th>0</th>\n",
       "      <td>0</td>\n",
       "      <td>[12, 14, 10751]</td>\n",
       "      <td>12444</td>\n",
       "      <td>en</td>\n",
       "      <td>Harry Potter and the Deathly Hallows: Part 1</td>\n",
       "      <td>33.533</td>\n",
       "      <td>2010-11-19</td>\n",
       "      <td>Harry Potter and the Deathly Hallows: Part 1</td>\n",
       "      <td>7.7</td>\n",
       "      <td>10788</td>\n",
       "    </tr>\n",
       "    <tr>\n",
       "      <th>1</th>\n",
       "      <td>1</td>\n",
       "      <td>[14, 12, 16, 10751]</td>\n",
       "      <td>10191</td>\n",
       "      <td>en</td>\n",
       "      <td>How to Train Your Dragon</td>\n",
       "      <td>28.734</td>\n",
       "      <td>2010-03-26</td>\n",
       "      <td>How to Train Your Dragon</td>\n",
       "      <td>7.7</td>\n",
       "      <td>7610</td>\n",
       "    </tr>\n",
       "  </tbody>\n",
       "</table>\n",
       "</div>"
      ],
      "text/plain": [
       "   Unnamed: 0            genre_ids     id original_language  \\\n",
       "0           0      [12, 14, 10751]  12444                en   \n",
       "1           1  [14, 12, 16, 10751]  10191                en   \n",
       "\n",
       "                                 original_title  popularity release_date  \\\n",
       "0  Harry Potter and the Deathly Hallows: Part 1      33.533   2010-11-19   \n",
       "1                      How to Train Your Dragon      28.734   2010-03-26   \n",
       "\n",
       "                                          title  vote_average  vote_count  \n",
       "0  Harry Potter and the Deathly Hallows: Part 1           7.7       10788  \n",
       "1                      How to Train Your Dragon           7.7        7610  "
      ]
     },
     "execution_count": 3,
     "metadata": {},
     "output_type": "execute_result"
    }
   ],
   "source": [
    "#loading the second dataset(tmdb movies)\n",
    "df3=pd.read_csv('tmdb.movies.csv',parse_dates=['release_date'])\n",
    "df3.head(2)"
   ]
  },
  {
   "cell_type": "code",
   "execution_count": 4,
   "id": "4ae882d3-1200-4e95-b0e6-bbf60817fdcc",
   "metadata": {},
   "outputs": [
    {
     "data": {
      "text/html": [
       "<div>\n",
       "<style scoped>\n",
       "    .dataframe tbody tr th:only-of-type {\n",
       "        vertical-align: middle;\n",
       "    }\n",
       "\n",
       "    .dataframe tbody tr th {\n",
       "        vertical-align: top;\n",
       "    }\n",
       "\n",
       "    .dataframe thead th {\n",
       "        text-align: right;\n",
       "    }\n",
       "</style>\n",
       "<table border=\"1\" class=\"dataframe\">\n",
       "  <thead>\n",
       "    <tr style=\"text-align: right;\">\n",
       "      <th></th>\n",
       "      <th>id</th>\n",
       "      <th>release_date_x</th>\n",
       "      <th>movie</th>\n",
       "      <th>production_budget</th>\n",
       "      <th>domestic_gross</th>\n",
       "      <th>worldwide_gross</th>\n",
       "      <th>Unnamed: 0</th>\n",
       "      <th>genre_ids</th>\n",
       "      <th>original_language</th>\n",
       "      <th>original_title</th>\n",
       "      <th>popularity</th>\n",
       "      <th>release_date_y</th>\n",
       "      <th>title</th>\n",
       "      <th>vote_average</th>\n",
       "      <th>vote_count</th>\n",
       "    </tr>\n",
       "  </thead>\n",
       "  <tbody>\n",
       "    <tr>\n",
       "      <th>0</th>\n",
       "      <td>12444</td>\n",
       "      <td>NaT</td>\n",
       "      <td>NaN</td>\n",
       "      <td>NaN</td>\n",
       "      <td>NaN</td>\n",
       "      <td>NaN</td>\n",
       "      <td>0</td>\n",
       "      <td>[12, 14, 10751]</td>\n",
       "      <td>en</td>\n",
       "      <td>Harry Potter and the Deathly Hallows: Part 1</td>\n",
       "      <td>33.533</td>\n",
       "      <td>2010-11-19</td>\n",
       "      <td>Harry Potter and the Deathly Hallows: Part 1</td>\n",
       "      <td>7.7</td>\n",
       "      <td>10788</td>\n",
       "    </tr>\n",
       "    <tr>\n",
       "      <th>1</th>\n",
       "      <td>10191</td>\n",
       "      <td>NaT</td>\n",
       "      <td>NaN</td>\n",
       "      <td>NaN</td>\n",
       "      <td>NaN</td>\n",
       "      <td>NaN</td>\n",
       "      <td>1</td>\n",
       "      <td>[14, 12, 16, 10751]</td>\n",
       "      <td>en</td>\n",
       "      <td>How to Train Your Dragon</td>\n",
       "      <td>28.734</td>\n",
       "      <td>2010-03-26</td>\n",
       "      <td>How to Train Your Dragon</td>\n",
       "      <td>7.7</td>\n",
       "      <td>7610</td>\n",
       "    </tr>\n",
       "  </tbody>\n",
       "</table>\n",
       "</div>"
      ],
      "text/plain": [
       "      id release_date_x movie production_budget domestic_gross  \\\n",
       "0  12444            NaT   NaN               NaN            NaN   \n",
       "1  10191            NaT   NaN               NaN            NaN   \n",
       "\n",
       "  worldwide_gross  Unnamed: 0            genre_ids original_language  \\\n",
       "0             NaN           0      [12, 14, 10751]                en   \n",
       "1             NaN           1  [14, 12, 16, 10751]                en   \n",
       "\n",
       "                                 original_title  popularity release_date_y  \\\n",
       "0  Harry Potter and the Deathly Hallows: Part 1      33.533     2010-11-19   \n",
       "1                      How to Train Your Dragon      28.734     2010-03-26   \n",
       "\n",
       "                                          title  vote_average  vote_count  \n",
       "0  Harry Potter and the Deathly Hallows: Part 1           7.7       10788  \n",
       "1                      How to Train Your Dragon           7.7        7610  "
      ]
     },
     "execution_count": 4,
     "metadata": {},
     "output_type": "execute_result"
    }
   ],
   "source": [
    "#merging the two datasets into one\n",
    "df = pd.merge(df1, df3, how=\"right\",on=\"id\")\n",
    "\n",
    "df.head(2)"
   ]
  },
  {
   "cell_type": "code",
   "execution_count": 5,
   "id": "acae6164-2cee-410c-9209-1d27de7b64c3",
   "metadata": {},
   "outputs": [
    {
     "data": {
      "text/plain": [
       "(26855, 15)"
      ]
     },
     "execution_count": 5,
     "metadata": {},
     "output_type": "execute_result"
    }
   ],
   "source": [
    "#checking the number of rows and columns the merged dataset has\n",
    "df.shape"
   ]
  },
  {
   "cell_type": "code",
   "execution_count": 6,
   "id": "b69c88a3-d5de-4251-89c3-d7abfd49f12a",
   "metadata": {},
   "outputs": [
    {
     "name": "stdout",
     "output_type": "stream",
     "text": [
      "<class 'pandas.core.frame.DataFrame'>\n",
      "RangeIndex: 26855 entries, 0 to 26854\n",
      "Data columns (total 15 columns):\n",
      " #   Column             Non-Null Count  Dtype         \n",
      "---  ------             --------------  -----         \n",
      " 0   id                 26855 non-null  int64         \n",
      " 1   release_date_x     344 non-null    datetime64[ns]\n",
      " 2   movie              344 non-null    object        \n",
      " 3   production_budget  344 non-null    object        \n",
      " 4   domestic_gross     344 non-null    object        \n",
      " 5   worldwide_gross    344 non-null    object        \n",
      " 6   Unnamed: 0         26855 non-null  int64         \n",
      " 7   genre_ids          26855 non-null  object        \n",
      " 8   original_language  26855 non-null  object        \n",
      " 9   original_title     26855 non-null  object        \n",
      " 10  popularity         26855 non-null  float64       \n",
      " 11  release_date_y     26855 non-null  datetime64[ns]\n",
      " 12  title              26855 non-null  object        \n",
      " 13  vote_average       26855 non-null  float64       \n",
      " 14  vote_count         26855 non-null  int64         \n",
      "dtypes: datetime64[ns](2), float64(2), int64(3), object(8)\n",
      "memory usage: 3.1+ MB\n"
     ]
    }
   ],
   "source": [
    "#checking columns with null values\n",
    "df.info()"
   ]
  },
  {
   "cell_type": "code",
   "execution_count": 7,
   "id": "2e42c7c8-4e8f-4458-835f-2e6b8e57051c",
   "metadata": {},
   "outputs": [
    {
     "data": {
      "text/plain": [
       "id                            int64\n",
       "release_date_x       datetime64[ns]\n",
       "movie                        object\n",
       "production_budget            object\n",
       "domestic_gross               object\n",
       "worldwide_gross              object\n",
       "Unnamed: 0                    int64\n",
       "genre_ids                    object\n",
       "original_language            object\n",
       "original_title               object\n",
       "popularity                  float64\n",
       "release_date_y       datetime64[ns]\n",
       "title                        object\n",
       "vote_average                float64\n",
       "vote_count                    int64\n",
       "dtype: object"
      ]
     },
     "execution_count": 7,
     "metadata": {},
     "output_type": "execute_result"
    }
   ],
   "source": [
    "#checking the datatypes of the columns\n",
    "df.dtypes"
   ]
  },
  {
   "cell_type": "code",
   "execution_count": 8,
   "id": "db0a89ee-ba90-4f18-84a0-5cae42bb7242",
   "metadata": {},
   "outputs": [],
   "source": [
    "#dropping unneccessary columns\n",
    "df.drop(['Unnamed: 0','genre_ids'],axis=1,inplace=True)"
   ]
  },
  {
   "cell_type": "code",
   "execution_count": 9,
   "id": "79622f03-55d2-4437-bf70-258cc72bbdfe",
   "metadata": {},
   "outputs": [],
   "source": [
    "#converting production_budget,worldwide_gross,domestic_gross columns into float data types\n",
    "df['production_budget'] = df['production_budget'].str.replace('$', '').str.replace(',', '').astype(float)\n",
    "df['worldwide_gross'] = df['worldwide_gross'].str.replace('$', '').str.replace(',', '').astype(float)\n",
    "df['domestic_gross'] = df['domestic_gross'].str.replace('$', '').str.replace(',', '').astype(float)"
   ]
  },
  {
   "cell_type": "code",
   "execution_count": 10,
   "id": "addd2eeb-330c-4352-baa6-516f8d80bc1b",
   "metadata": {},
   "outputs": [],
   "source": [
    "#filling null values of the production_budget  with mean\n",
    "df['production_budget']=df['production_budget'].fillna(df['production_budget'].mean())"
   ]
  },
  {
   "cell_type": "code",
   "execution_count": 11,
   "id": "87f29c21-710b-4ec7-a5fa-002fe1aa4baf",
   "metadata": {},
   "outputs": [
    {
     "name": "stdout",
     "output_type": "stream",
     "text": [
      "<class 'pandas.core.frame.DataFrame'>\n",
      "RangeIndex: 26855 entries, 0 to 26854\n",
      "Data columns (total 13 columns):\n",
      " #   Column             Non-Null Count  Dtype         \n",
      "---  ------             --------------  -----         \n",
      " 0   id                 26855 non-null  int64         \n",
      " 1   release_date_x     344 non-null    datetime64[ns]\n",
      " 2   movie              344 non-null    object        \n",
      " 3   production_budget  26855 non-null  float64       \n",
      " 4   domestic_gross     344 non-null    float64       \n",
      " 5   worldwide_gross    344 non-null    float64       \n",
      " 6   original_language  26855 non-null  object        \n",
      " 7   original_title     26855 non-null  object        \n",
      " 8   popularity         26855 non-null  float64       \n",
      " 9   release_date_y     26855 non-null  datetime64[ns]\n",
      " 10  title              26855 non-null  object        \n",
      " 11  vote_average       26855 non-null  float64       \n",
      " 12  vote_count         26855 non-null  int64         \n",
      "dtypes: datetime64[ns](2), float64(5), int64(2), object(4)\n",
      "memory usage: 2.7+ MB\n"
     ]
    }
   ],
   "source": [
    "#checking the columns after data cleaning\n",
    "df.info()"
   ]
  },
  {
   "cell_type": "code",
   "execution_count": 12,
   "id": "62093095-adb7-4cfe-a487-2c389c2e999b",
   "metadata": {},
   "outputs": [
    {
     "data": {
      "image/png": "[encoded data removed]",
      "text/plain": [
       "<Figure size 1000x1000 with 9 Axes>"
      ]
     },
     "metadata": {},
     "output_type": "display_data"
    }
   ],
   "source": [
    "#visualizing distributions of various features in the dataset\n",
    "df.hist(figsize=(10,10));"
   ]
  },
  {
   "cell_type": "code",
   "execution_count": 13,
   "id": "abde0e85-4b3b-4e0d-9540-b6b260b70feb",
   "metadata": {},
   "outputs": [
    {
     "data": {
      "text/html": [
       "<div>\n",
       "<style scoped>\n",
       "    .dataframe tbody tr th:only-of-type {\n",
       "        vertical-align: middle;\n",
       "    }\n",
       "\n",
       "    .dataframe tbody tr th {\n",
       "        vertical-align: top;\n",
       "    }\n",
       "\n",
       "    .dataframe thead th {\n",
       "        text-align: right;\n",
       "    }\n",
       "</style>\n",
       "<table border=\"1\" class=\"dataframe\">\n",
       "  <thead>\n",
       "    <tr style=\"text-align: right;\">\n",
       "      <th></th>\n",
       "      <th>id</th>\n",
       "      <th>release_date_x</th>\n",
       "      <th>production_budget</th>\n",
       "      <th>domestic_gross</th>\n",
       "      <th>worldwide_gross</th>\n",
       "      <th>popularity</th>\n",
       "      <th>release_date_y</th>\n",
       "      <th>vote_average</th>\n",
       "      <th>vote_count</th>\n",
       "    </tr>\n",
       "  </thead>\n",
       "  <tbody>\n",
       "    <tr>\n",
       "      <th>count</th>\n",
       "      <td>26855.000000</td>\n",
       "      <td>344</td>\n",
       "      <td>2.685500e+04</td>\n",
       "      <td>3.440000e+02</td>\n",
       "      <td>3.440000e+02</td>\n",
       "      <td>26855.000000</td>\n",
       "      <td>26855</td>\n",
       "      <td>26855.000000</td>\n",
       "      <td>26855.000000</td>\n",
       "    </tr>\n",
       "    <tr>\n",
       "      <th>mean</th>\n",
       "      <td>291337.590281</td>\n",
       "      <td>2005-03-13 23:09:46.046511616</td>\n",
       "      <td>3.056248e+07</td>\n",
       "      <td>4.445669e+07</td>\n",
       "      <td>9.801479e+07</td>\n",
       "      <td>3.279934</td>\n",
       "      <td>2014-01-16 23:29:58.324334592</td>\n",
       "      <td>6.002268</td>\n",
       "      <td>220.280283</td>\n",
       "    </tr>\n",
       "    <tr>\n",
       "      <th>min</th>\n",
       "      <td>27.000000</td>\n",
       "      <td>1933-04-07 00:00:00</td>\n",
       "      <td>1.500000e+04</td>\n",
       "      <td>0.000000e+00</td>\n",
       "      <td>0.000000e+00</td>\n",
       "      <td>0.600000</td>\n",
       "      <td>1930-04-29 00:00:00</td>\n",
       "      <td>0.000000</td>\n",
       "      <td>1.000000</td>\n",
       "    </tr>\n",
       "    <tr>\n",
       "      <th>25%</th>\n",
       "      <td>150124.500000</td>\n",
       "      <td>2000-10-09 12:00:00</td>\n",
       "      <td>3.056248e+07</td>\n",
       "      <td>3.470416e+06</td>\n",
       "      <td>8.182682e+06</td>\n",
       "      <td>0.600000</td>\n",
       "      <td>2012-05-25 00:00:00</td>\n",
       "      <td>5.000000</td>\n",
       "      <td>2.000000</td>\n",
       "    </tr>\n",
       "    <tr>\n",
       "      <th>50%</th>\n",
       "      <td>306456.000000</td>\n",
       "      <td>2007-11-08 00:00:00</td>\n",
       "      <td>3.056248e+07</td>\n",
       "      <td>1.972829e+07</td>\n",
       "      <td>2.774548e+07</td>\n",
       "      <td>1.400000</td>\n",
       "      <td>2014-08-26 00:00:00</td>\n",
       "      <td>6.000000</td>\n",
       "      <td>5.000000</td>\n",
       "    </tr>\n",
       "    <tr>\n",
       "      <th>75%</th>\n",
       "      <td>418421.000000</td>\n",
       "      <td>2013-07-03 06:00:00</td>\n",
       "      <td>3.056248e+07</td>\n",
       "      <td>5.229338e+07</td>\n",
       "      <td>1.066868e+08</td>\n",
       "      <td>3.983000</td>\n",
       "      <td>2016-09-23 00:00:00</td>\n",
       "      <td>7.000000</td>\n",
       "      <td>30.000000</td>\n",
       "    </tr>\n",
       "    <tr>\n",
       "      <th>max</th>\n",
       "      <td>608444.000000</td>\n",
       "      <td>2020-12-31 00:00:00</td>\n",
       "      <td>2.250000e+08</td>\n",
       "      <td>6.232795e+08</td>\n",
       "      <td>1.517936e+09</td>\n",
       "      <td>80.773000</td>\n",
       "      <td>2020-12-25 00:00:00</td>\n",
       "      <td>10.000000</td>\n",
       "      <td>22186.000000</td>\n",
       "    </tr>\n",
       "    <tr>\n",
       "      <th>std</th>\n",
       "      <td>156192.388466</td>\n",
       "      <td>NaN</td>\n",
       "      <td>4.333933e+06</td>\n",
       "      <td>7.001479e+07</td>\n",
       "      <td>1.731311e+08</td>\n",
       "      <td>4.551016</td>\n",
       "      <td>NaN</td>\n",
       "      <td>1.847470</td>\n",
       "      <td>1010.271443</td>\n",
       "    </tr>\n",
       "  </tbody>\n",
       "</table>\n",
       "</div>"
      ],
      "text/plain": [
       "                  id                 release_date_x  production_budget  \\\n",
       "count   26855.000000                            344       2.685500e+04   \n",
       "mean   291337.590281  2005-03-13 23:09:46.046511616       3.056248e+07   \n",
       "min        27.000000            1933-04-07 00:00:00       1.500000e+04   \n",
       "25%    150124.500000            2000-10-09 12:00:00       3.056248e+07   \n",
       "50%    306456.000000            2007-11-08 00:00:00       3.056248e+07   \n",
       "75%    418421.000000            2013-07-03 06:00:00       3.056248e+07   \n",
       "max    608444.000000            2020-12-31 00:00:00       2.250000e+08   \n",
       "std    156192.388466                            NaN       4.333933e+06   \n",
       "\n",
       "       domestic_gross  worldwide_gross    popularity  \\\n",
       "count    3.440000e+02     3.440000e+02  26855.000000   \n",
       "mean     4.445669e+07     9.801479e+07      3.279934   \n",
       "min      0.000000e+00     0.000000e+00      0.600000   \n",
       "25%      3.470416e+06     8.182682e+06      0.600000   \n",
       "50%      1.972829e+07     2.774548e+07      1.400000   \n",
       "75%      5.229338e+07     1.066868e+08      3.983000   \n",
       "max      6.232795e+08     1.517936e+09     80.773000   \n",
       "std      7.001479e+07     1.731311e+08      4.551016   \n",
       "\n",
       "                      release_date_y  vote_average    vote_count  \n",
       "count                          26855  26855.000000  26855.000000  \n",
       "mean   2014-01-16 23:29:58.324334592      6.002268    220.280283  \n",
       "min              1930-04-29 00:00:00      0.000000      1.000000  \n",
       "25%              2012-05-25 00:00:00      5.000000      2.000000  \n",
       "50%              2014-08-26 00:00:00      6.000000      5.000000  \n",
       "75%              2016-09-23 00:00:00      7.000000     30.000000  \n",
       "max              2020-12-25 00:00:00     10.000000  22186.000000  \n",
       "std                              NaN      1.847470   1010.271443  "
      ]
     },
     "execution_count": 13,
     "metadata": {},
     "output_type": "execute_result"
    }
   ],
   "source": [
    "#getting the overall dataset statistical summary\n",
    "df.describe()"
   ]
  },
  {
   "cell_type": "markdown",
   "id": "3a052668-ead2-4cd2-bcb6-144dc02c9b9d",
   "metadata": {},
   "source": [
    "## Research Question 1 (Do movies with high vote_average have high popularity)"
   ]
  },
  {
   "cell_type": "code",
   "execution_count": 14,
   "id": "60eaf8b5-798a-4f6d-9b7e-4762ae61d20b",
   "metadata": {},
   "outputs": [],
   "source": [
    "#getting median vote_average\n",
    "def medianfunction(columnname):\n",
    "    return df[columnname].median()"
   ]
  },
  {
   "cell_type": "code",
   "execution_count": 15,
   "id": "9a06b9be-a27d-4742-9864-51a44e352b24",
   "metadata": {},
   "outputs": [
    {
     "data": {
      "text/plain": [
       "6.0"
      ]
     },
     "execution_count": 15,
     "metadata": {},
     "output_type": "execute_result"
    }
   ],
   "source": [
    "#calling median Function\n",
    "medianfunction('vote_average')"
   ]
  },
  {
   "cell_type": "code",
   "execution_count": 16,
   "id": "4d781dfd-444b-402e-a6f4-581b05609ce6",
   "metadata": {},
   "outputs": [],
   "source": [
    "# Selecting each movie group and getting its mean popularity\n",
    "lowvote=df.query('vote_average < {}'.format(medianfunction('vote_average')))\n",
    "highvote=df.query('vote_average >= {}'.format(medianfunction('vote_average')))\n",
    "lowvotegenre_popularity_mean=lowvote['popularity'].mean()\n",
    "highvotegenre_popularity_mean=highvote['popularity'].mean()"
   ]
  },
  {
   "cell_type": "code",
   "execution_count": 17,
   "id": "9dc38a82-808c-4cfa-85e4-81c2a459a3b1",
   "metadata": {},
   "outputs": [
    {
     "data": {
      "image/png": "[encoded data removed]",
      "text/plain": [
       "<Figure size 640x480 with 1 Axes>"
      ]
     },
     "metadata": {},
     "output_type": "display_data"
    }
   ],
   "source": [
    "# Create bar chart visualization\n",
    "values = [1, 2]\n",
    "lengths = [lowvotegenre_popularity_mean, highvotegenre_popularity_mean]\n",
    "labels = ['Lowvoted', 'Highvoted']\n",
    "plt.bar(values, lengths, tick_label=labels)\n",
    "plt.title('Average Popularity by Vote_average')\n",
    "plt.xlabel('Popularity Vote Status')\n",
    "plt.ylabel('Average Popularity');"
   ]
  },
  {
   "cell_type": "markdown",
   "id": "981f77e3-a401-473b-82cb-a5ee81cf0b55",
   "metadata": {},
   "source": [
    "## Research Question One Findings\n",
    "It appears movies with low vote_average are less popular than those with high vote_average.Vote_average determines the popularity of a movie"
   ]
  },
  {
   "cell_type": "markdown",
   "id": "54768f83-b2d0-4fdd-a0d2-8a4a1a65d3ea",
   "metadata": {},
   "source": [
    "## Research Question 2: How did film budgets change from each decade on average?"
   ]
  },
  {
   "cell_type": "code",
   "execution_count": 18,
   "id": "1abc9b56-170b-4b42-a018-7246287e2053",
   "metadata": {},
   "outputs": [
    {
     "data": {
      "text/html": [
       "<div>\n",
       "<style scoped>\n",
       "    .dataframe tbody tr th:only-of-type {\n",
       "        vertical-align: middle;\n",
       "    }\n",
       "\n",
       "    .dataframe tbody tr th {\n",
       "        vertical-align: top;\n",
       "    }\n",
       "\n",
       "    .dataframe thead th {\n",
       "        text-align: right;\n",
       "    }\n",
       "</style>\n",
       "<table border=\"1\" class=\"dataframe\">\n",
       "  <thead>\n",
       "    <tr style=\"text-align: right;\">\n",
       "      <th></th>\n",
       "      <th>id</th>\n",
       "      <th>release_date_x</th>\n",
       "      <th>movie</th>\n",
       "      <th>production_budget</th>\n",
       "      <th>domestic_gross</th>\n",
       "      <th>worldwide_gross</th>\n",
       "      <th>original_language</th>\n",
       "      <th>original_title</th>\n",
       "      <th>popularity</th>\n",
       "      <th>release_date_y</th>\n",
       "      <th>title</th>\n",
       "      <th>vote_average</th>\n",
       "      <th>vote_count</th>\n",
       "      <th>release_year</th>\n",
       "      <th>decade</th>\n",
       "    </tr>\n",
       "  </thead>\n",
       "  <tbody>\n",
       "    <tr>\n",
       "      <th>0</th>\n",
       "      <td>12444</td>\n",
       "      <td>NaT</td>\n",
       "      <td>NaN</td>\n",
       "      <td>3.056248e+07</td>\n",
       "      <td>NaN</td>\n",
       "      <td>NaN</td>\n",
       "      <td>en</td>\n",
       "      <td>Harry Potter and the Deathly Hallows: Part 1</td>\n",
       "      <td>33.533</td>\n",
       "      <td>2010-11-19</td>\n",
       "      <td>Harry Potter and the Deathly Hallows: Part 1</td>\n",
       "      <td>7.7</td>\n",
       "      <td>10788</td>\n",
       "      <td>NaN</td>\n",
       "      <td>NaN</td>\n",
       "    </tr>\n",
       "    <tr>\n",
       "      <th>1</th>\n",
       "      <td>10191</td>\n",
       "      <td>NaT</td>\n",
       "      <td>NaN</td>\n",
       "      <td>3.056248e+07</td>\n",
       "      <td>NaN</td>\n",
       "      <td>NaN</td>\n",
       "      <td>en</td>\n",
       "      <td>How to Train Your Dragon</td>\n",
       "      <td>28.734</td>\n",
       "      <td>2010-03-26</td>\n",
       "      <td>How to Train Your Dragon</td>\n",
       "      <td>7.7</td>\n",
       "      <td>7610</td>\n",
       "      <td>NaN</td>\n",
       "      <td>NaN</td>\n",
       "    </tr>\n",
       "    <tr>\n",
       "      <th>2</th>\n",
       "      <td>10138</td>\n",
       "      <td>NaT</td>\n",
       "      <td>NaN</td>\n",
       "      <td>3.056248e+07</td>\n",
       "      <td>NaN</td>\n",
       "      <td>NaN</td>\n",
       "      <td>en</td>\n",
       "      <td>Iron Man 2</td>\n",
       "      <td>28.515</td>\n",
       "      <td>2010-05-07</td>\n",
       "      <td>Iron Man 2</td>\n",
       "      <td>6.8</td>\n",
       "      <td>12368</td>\n",
       "      <td>NaN</td>\n",
       "      <td>NaN</td>\n",
       "    </tr>\n",
       "    <tr>\n",
       "      <th>3</th>\n",
       "      <td>862</td>\n",
       "      <td>NaT</td>\n",
       "      <td>NaN</td>\n",
       "      <td>3.056248e+07</td>\n",
       "      <td>NaN</td>\n",
       "      <td>NaN</td>\n",
       "      <td>en</td>\n",
       "      <td>Toy Story</td>\n",
       "      <td>28.005</td>\n",
       "      <td>1995-11-22</td>\n",
       "      <td>Toy Story</td>\n",
       "      <td>7.9</td>\n",
       "      <td>10174</td>\n",
       "      <td>NaN</td>\n",
       "      <td>NaN</td>\n",
       "    </tr>\n",
       "    <tr>\n",
       "      <th>4</th>\n",
       "      <td>27205</td>\n",
       "      <td>NaT</td>\n",
       "      <td>NaN</td>\n",
       "      <td>3.056248e+07</td>\n",
       "      <td>NaN</td>\n",
       "      <td>NaN</td>\n",
       "      <td>en</td>\n",
       "      <td>Inception</td>\n",
       "      <td>27.920</td>\n",
       "      <td>2010-07-16</td>\n",
       "      <td>Inception</td>\n",
       "      <td>8.3</td>\n",
       "      <td>22186</td>\n",
       "      <td>NaN</td>\n",
       "      <td>NaN</td>\n",
       "    </tr>\n",
       "  </tbody>\n",
       "</table>\n",
       "</div>"
      ],
      "text/plain": [
       "      id release_date_x movie  production_budget  domestic_gross  \\\n",
       "0  12444            NaT   NaN       3.056248e+07             NaN   \n",
       "1  10191            NaT   NaN       3.056248e+07             NaN   \n",
       "2  10138            NaT   NaN       3.056248e+07             NaN   \n",
       "3    862            NaT   NaN       3.056248e+07             NaN   \n",
       "4  27205            NaT   NaN       3.056248e+07             NaN   \n",
       "\n",
       "   worldwide_gross original_language  \\\n",
       "0              NaN                en   \n",
       "1              NaN                en   \n",
       "2              NaN                en   \n",
       "3              NaN                en   \n",
       "4              NaN                en   \n",
       "\n",
       "                                 original_title  popularity release_date_y  \\\n",
       "0  Harry Potter and the Deathly Hallows: Part 1      33.533     2010-11-19   \n",
       "1                      How to Train Your Dragon      28.734     2010-03-26   \n",
       "2                                    Iron Man 2      28.515     2010-05-07   \n",
       "3                                     Toy Story      28.005     1995-11-22   \n",
       "4                                     Inception      27.920     2010-07-16   \n",
       "\n",
       "                                          title  vote_average  vote_count  \\\n",
       "0  Harry Potter and the Deathly Hallows: Part 1           7.7       10788   \n",
       "1                      How to Train Your Dragon           7.7        7610   \n",
       "2                                    Iron Man 2           6.8       12368   \n",
       "3                                     Toy Story           7.9       10174   \n",
       "4                                     Inception           8.3       22186   \n",
       "\n",
       "   release_year decade  \n",
       "0           NaN    NaN  \n",
       "1           NaN    NaN  \n",
       "2           NaN    NaN  \n",
       "3           NaN    NaN  \n",
       "4           NaN    NaN  "
      ]
     },
     "execution_count": 18,
     "metadata": {},
     "output_type": "execute_result"
    }
   ],
   "source": [
    "#create decade column to the movies df \n",
    "df['release_year'] = df['release_date_x'].dt.year\n",
    "#create bins and defining exact edges \n",
    "\n",
    "\n",
    "# Extract the year\n",
    "\n",
    "edges = [1959, 1970, 1980, 1990, 2000, 2010, 2016]\n",
    "\n",
    "#values that fall within the edges will be placed under these names accordingly \n",
    "names = ['1960', '1970', '1980', '1990', '2000', '2010']\n",
    "\n",
    "#use pd.cut to categorize bin values into discrete intervals \n",
    "#bins are constant size \n",
    "#values from release_year are 1-dimensional \n",
    "#labels set lists of values correspond to how the age values will be put in bins by decades\n",
    "df['decade'] = pd.cut(df['release_year'], edges, labels=names)\n",
    "df.head()"
   ]
  },
  {
   "cell_type": "code",
   "execution_count": 20,
   "id": "bf7e3bf1-9fb3-4668-b131-077a7e1d4b2f",
   "metadata": {},
   "outputs": [
    {
     "name": "stderr",
     "output_type": "stream",
     "text": [
      "C:\\Users\\petra.kibugu\\AppData\\Local\\Temp\\ipykernel_42616\\1859693883.py:1: FutureWarning: The default of observed=False is deprecated and will be changed to True in a future version of pandas. Pass observed=False to retain current behavior or observed=True to adopt the future default and silence this warning.\n",
      "  budget=df.groupby('decade')['production_budget'].mean().reset_index(name='production_budget')\n"
     ]
    },
    {
     "data": {
      "text/html": [
       "<div>\n",
       "<style scoped>\n",
       "    .dataframe tbody tr th:only-of-type {\n",
       "        vertical-align: middle;\n",
       "    }\n",
       "\n",
       "    .dataframe tbody tr th {\n",
       "        vertical-align: top;\n",
       "    }\n",
       "\n",
       "    .dataframe thead th {\n",
       "        text-align: right;\n",
       "    }\n",
       "</style>\n",
       "<table border=\"1\" class=\"dataframe\">\n",
       "  <thead>\n",
       "    <tr style=\"text-align: right;\">\n",
       "      <th></th>\n",
       "      <th>decade</th>\n",
       "      <th>production_budget</th>\n",
       "    </tr>\n",
       "  </thead>\n",
       "  <tbody>\n",
       "    <tr>\n",
       "      <th>0</th>\n",
       "      <td>1960</td>\n",
       "      <td>4.728667e+06</td>\n",
       "    </tr>\n",
       "    <tr>\n",
       "      <th>1</th>\n",
       "      <td>1970</td>\n",
       "      <td>1.363750e+07</td>\n",
       "    </tr>\n",
       "    <tr>\n",
       "      <th>2</th>\n",
       "      <td>1980</td>\n",
       "      <td>1.772000e+07</td>\n",
       "    </tr>\n",
       "    <tr>\n",
       "      <th>3</th>\n",
       "      <td>1990</td>\n",
       "      <td>2.982851e+07</td>\n",
       "    </tr>\n",
       "    <tr>\n",
       "      <th>4</th>\n",
       "      <td>2000</td>\n",
       "      <td>2.777293e+07</td>\n",
       "    </tr>\n",
       "    <tr>\n",
       "      <th>5</th>\n",
       "      <td>2010</td>\n",
       "      <td>3.717830e+07</td>\n",
       "    </tr>\n",
       "  </tbody>\n",
       "</table>\n",
       "</div>"
      ],
      "text/plain": [
       "  decade  production_budget\n",
       "0   1960       4.728667e+06\n",
       "1   1970       1.363750e+07\n",
       "2   1980       1.772000e+07\n",
       "3   1990       2.982851e+07\n",
       "4   2000       2.777293e+07\n",
       "5   2010       3.717830e+07"
      ]
     },
     "execution_count": 20,
     "metadata": {},
     "output_type": "execute_result"
    }
   ],
   "source": [
    "#Grouping the \n",
    "budget=df.groupby('decade')['production_budget'].mean().reset_index(name='production_budget')\n",
    "budget"
   ]
  },
  {
   "cell_type": "code",
   "execution_count": null,
   "id": "19098ebc-fa39-42cc-ad20-4b636cc5aa67",
   "metadata": {},
   "outputs": [],
   "source": []
  }
 ],
 "metadata": {
  "kernelspec": {
   "display_name": "Python 3 (ipykernel)",
   "language": "python",
   "name": "python3"
  },
  "language_info": {
   "codemirror_mode": {
    "name": "ipython",
    "version": 3
   },
   "file_extension": ".py",
   "mimetype": "text/x-python",
   "name": "python",
   "nbconvert_exporter": "python",
   "pygments_lexer": "ipython3",
   "version": "3.11.8"
  }
 },
 "nbformat": 4,
 "nbformat_minor": 5
}
